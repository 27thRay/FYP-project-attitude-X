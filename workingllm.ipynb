{
 "cells": [
  {
   "cell_type": "code",
   "execution_count": 1,
   "metadata": {},
   "outputs": [],
   "source": [
    "##Importing libraries\n",
    "import os\n",
    "##Importing Functions\n",
    "from functions import check_file_type\n",
    "from convert_to_text import convertPDFToText, convertDocxToText\n",
    "\n",
    "#Provide the Resume file path as an argument\n",
    "file_path = \"resume_data/Resume_3.docx\"  \n",
    "#Check file type\n",
    "file_type = check_file_type(file_path)\n",
    "#Check file size\n",
    "size = os.path.getsize(file_path)\n",
    "\n",
    "\n",
    "#Text Extracting for file types and file size\n",
    "if size>10000000:#10 Million Bytes for 10MB\n",
    "    print('*************File size too large, please compress file or try again!*************')\n",
    "else:\n",
    "    #extract text for pdf\n",
    "    if file_type == \"PDF\":    \n",
    "        resume_text = convertPDFToText(file_path)\n",
    "        #print(\"*************Successfully extracted PDF*************\")\n",
    "        #print(text)\n",
    "    elif file_type == \"DOCX\": #10 Million Bytes for 10MB\n",
    "        resume_text = convertDocxToText(file_path)\n",
    "        #print(\"*************Successfully extracted Word File*************\")\n",
    "        #print(text)\n",
    "    else:\n",
    "        #File type is not accepted\n",
    "        raise Exception(\"*************Filetype is not accepted*************\")"
   ]
  },
  {
   "cell_type": "code",
   "execution_count": 2,
   "metadata": {},
   "outputs": [],
   "source": [
    "import vercel_ai\n",
    "\n",
    "client = vercel_ai.Client()\n",
    "\n",
    "prompt = f'''\n",
    "Resume:\n",
    "{resume_text}'''\n",
    "\n",
    "prompt_template = f'''\n",
    "{prompt}\n",
    "Strictly extract the name, technical skills, soft skills, key skills and language in the format, insert key skills under soft skills or technical skills (where ever it fits), do not include \":\" in any of the points:\n",
    "  name: ...\n",
    "  technical skills: ...\n",
    "  soft skills: ...\n",
    "  languages: ...\n",
    "'''\n",
    "\n",
    "while True:\n",
    "  try:\n",
    "    result = \"\"\n",
    "    for chunk in client.generate(\"replicate:replicate/llama-2-70b-chat\", prompt_template, params = {\n",
    "      \"replicate:replicate/llama-2-70b-chat\": {\n",
    "        \"temperature\": 0.75,\n",
    "        \"maximumLength\": 1000,\n",
    "        \"topP\": 1,\n",
    "        \"repetitionPenalty\": 1\n",
    "    }}):\n",
    "      result += chunk\n",
    "    break\n",
    "  except:\n",
    "    pass"
   ]
  },
  {
   "cell_type": "code",
   "execution_count": null,
   "metadata": {},
   "outputs": [
    {
     "name": "stdout",
     "output_type": "stream",
     "text": [
      "Name: Bertrand Comte\n",
      "Technical skills: Salesforce, Canvas, RMS, WordPress, Elementor\n",
      "Soft skills: Leadership, Coaching, Mental & physical health, Bridge-builder, Go-getter, Creative Listener, Empathic, Multitask, Resilient\n",
      "Languages: French (mother tongue), English (C1), Spanish (C1), Thaï (B1)\n"
     ]
    }
   ],
   "source": [
    "test = result.replace('\\n*',',')\n",
    "test = test.replace(\"\\n,\",'')\n",
    "test = test.replace(\"\\n\\n\",'\\n')\n",
    "print(test)"
   ]
  },
  {
   "cell_type": "code",
   "execution_count": null,
   "metadata": {},
   "outputs": [],
   "source": []
  }
 ],
 "metadata": {
  "kernelspec": {
   "display_name": "Python 3",
   "language": "python",
   "name": "python3"
  },
  "language_info": {
   "codemirror_mode": {
    "name": "ipython",
    "version": 3
   },
   "file_extension": ".py",
   "mimetype": "text/x-python",
   "name": "python",
   "nbconvert_exporter": "python",
   "pygments_lexer": "ipython3",
   "version": "3.10.0"
  }
 },
 "nbformat": 4,
 "nbformat_minor": 2
}
